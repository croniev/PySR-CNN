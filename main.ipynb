{
    "cells": [
        {
            "cell_type": "code",
            "execution_count": 1,
            "id": "140c6586",
            "metadata": {
                "trusted": true
            },
            "outputs": [
                {
                    "name": "stderr",
                    "output_type": "stream",
                    "text": "/home/croniev/Code/cysec/lib/python3.9/site-packages/juliacall/__init__.py:61: UserWarning: torch was imported before juliacall. This may cause a segfault. To avoid this, import juliacall before importing torch. For updates, see https://github.com/pytorch/pytorch/issues/78829.\n  warnings.warn(\n"
                },
                {
                    "name": "stdout",
                    "output_type": "stream",
                    "text": "Detected IPython. Loading juliacall extension. See https://juliapy.github.io/PythonCall.jl/stable/compat/#IPython\n"
                }
            ],
            "source": "import torch\nfrom torchvision.transforms import ToTensor\nfrom torchvision import datasets\nfrom pysr import PySRRegressor\nfrom model import CNN\nimport pandas as pd\nimport numpy as np\nfrom scipy.fftpack import dct, idct\nimport matplotlib.pyplot as plt"
        },
        {
            "cell_type": "markdown",
            "id": "85f73552",
            "metadata": {},
            "source": "### Load Model and get Kernels"
        },
        {
            "cell_type": "code",
            "execution_count": 2,
            "id": "e5bb3bd5",
            "metadata": {
                "trusted": true
            },
            "outputs": [
                {
                    "name": "stderr",
                    "output_type": "stream",
                    "text": "/tmp/ipykernel_96769/3040839533.py:2: FutureWarning: You are using `torch.load` with `weights_only=False` (the current default value), which uses the default pickle module implicitly. It is possible to construct malicious pickle data which will execute arbitrary code during unpickling (See https://github.com/pytorch/pytorch/blob/main/SECURITY.md#untrusted-models for more details). In a future release, the default value for `weights_only` will be flipped to `True`. This limits the functions that could be executed during unpickling. Arbitrary objects will no longer be allowed to be loaded via this mode unless they are explicitly allowlisted by the user via `torch.serialization.add_safe_globals`. We recommend you start setting `weights_only=True` for any use case where you don't have full control of the loaded file. Please open an issue on GitHub for any issues related to this experimental feature.\n  cnn.load_state_dict(torch.load('cnn.pt'))\n"
                },
                {
                    "name": "stdout",
                    "output_type": "stream",
                    "text": "CNN(\n  (conv1): Conv2d(1, 16, kernel_size=(5, 5), stride=(1, 1), padding=(2, 2))\n  (relu1): ReLU()\n  (pool1): MaxPool2d(kernel_size=2, stride=2, padding=0, dilation=1, ceil_mode=False)\n  (conv2): Conv2d(16, 32, kernel_size=(5, 5), stride=(1, 1), padding=(2, 2))\n  (relu2): ReLU()\n  (pool2): MaxPool2d(kernel_size=2, stride=2, padding=0, dilation=1, ceil_mode=False)\n  (out): Linear(in_features=1568, out_features=10, bias=True)\n)\namount of kernels of Conv1: torch.Size([16, 1, 5, 5])\namount of kernels of Conv2: torch.Size([32, 16, 5, 5])\nkernels of first layer:\nParameter containing:\ntensor([[[[-0.2335, -0.2440, -0.9097, -1.0703, -0.8168],\n          [-0.0917,  0.0114, -0.2991, -0.3230,  0.6103],\n          [ 0.0865,  0.0287,  0.0781,  0.3111,  0.9103],\n          [ 0.0553, -0.7562, -0.8900, -0.9722, -0.9644],\n          [ 0.0107, -0.6425, -0.8105, -0.5706, -1.1133]]],\n\n\n        [[[-0.0280, -0.6446, -1.0783, -0.0510, -0.1909],\n          [-1.2921, -1.5182, -0.0516,  0.5699, -0.5167],\n          [-0.9574, -0.2885,  0.0691,  0.1755, -0.4727],\n          [-1.2423, -0.3863,  0.5111,  0.0746, -0.8479],\n          [-1.3129,  0.2300,  0.8279, -0.4460, -0.5626]]],\n\n\n        [[[ 0.5291,  0.1248,  0.2948,  0.1704, -0.1348],\n          [-1.0246,  0.1614,  0.4258,  0.0904,  0.0019],\n          [-0.5680,  0.4559,  0.0938,  0.1415,  0.0510],\n          [ 0.1021,  0.2176, -0.0204,  0.1813,  0.2024],\n          [ 0.4457,  0.3654,  0.0859, -0.0848, -0.0403]]],\n\n\n        [[[ 0.7099, -0.0518, -0.3999, -1.3199, -0.2031],\n          [ 0.3740,  0.1910, -0.3168, -0.6762,  0.4298],\n          [ 0.5073, -0.0837, -1.3188, -0.0196,  0.5805],\n          [ 0.0269, -1.0321, -0.0367,  0.0597,  0.1610],\n          [-0.8166, -0.5479,  0.0032,  0.4293, -0.1114]]],\n\n\n        [[[ 0.2957,  0.1430,  0.0766, -0.2650,  0.5334],\n          [ 0.1057, -0.6504, -0.8972, -0.5839, -0.4445],\n          [ 0.2597,  0.0572,  0.0540,  0.1157, -0.3733],\n          [ 0.3074,  0.4609,  0.4423, -0.2986, -0.2100],\n          [-0.4084, -0.1961,  0.4710,  0.2451,  0.4294]]],\n\n\n        [[[-0.2075, -0.1561,  0.2745,  0.2814, -0.6771],\n          [-1.2981, -0.1775,  0.1404,  0.5747, -0.1818],\n          [-0.5521, -0.6337, -0.1747,  0.3559,  0.3817],\n          [-0.6198, -0.8836, -0.2142,  0.1903,  0.2794],\n          [-0.1596, -0.7851,  0.1739,  0.0362,  0.1972]]],\n\n\n        [[[ 0.1360, -0.0918,  0.1104, -0.0646,  0.2103],\n          [ 0.1062,  0.3018,  0.4091,  0.5279,  0.1627],\n          [ 0.0302, -0.3303, -0.0802,  0.2925,  0.2513],\n          [-0.6473, -1.4883, -0.8111, -0.0514, -0.3394],\n          [ 0.5227, -0.2562, -0.3381, -0.7960, -0.1770]]],\n\n\n        [[[-0.3574,  0.1063,  0.2514,  0.1884, -0.4400],\n          [-0.6735, -0.4578, -0.8785, -1.0236, -1.5146],\n          [-1.4320, -1.0363, -0.8359, -0.6239, -0.6141],\n          [-0.9241, -0.3779, -0.0595,  0.0761,  0.2091],\n          [ 0.0723,  0.3981,  0.4368,  0.3846,  0.2235]]],\n\n\n        [[[-1.0633, -0.1753,  0.4940,  0.4017,  0.7569],\n          [-0.0771, -1.0514, -1.7260, -1.4314, -0.5460],\n          [-0.0308, -0.0643,  0.0095, -0.2382, -0.7718],\n          [-0.1070,  0.5910,  0.3556, -0.4146, -0.3264],\n          [-0.2768,  0.2324,  0.4141, -0.0533, -0.1740]]],\n\n\n        [[[-0.3569, -0.0474, -0.0295, -0.3177,  0.0279],\n          [-0.4427, -0.2376,  0.1075,  0.0865,  0.0894],\n          [-0.5682, -0.0398,  0.0419, -0.1239, -0.2208],\n          [-0.2371, -0.1306, -0.2446, -0.3164, -0.2015],\n          [ 0.0484, -0.4290, -0.4255, -0.3033, -0.3477]]],\n\n\n        [[[ 0.2488,  0.4134,  0.3528,  0.0210, -1.0239],\n          [-0.0268,  0.0338,  0.1708, -0.0692, -1.6336],\n          [-0.1032,  0.0310,  0.3139, -0.8555, -0.1318],\n          [ 0.0948, -0.3197, -1.3580, -0.0030, -0.1405],\n          [-1.3413, -1.7017, -0.4596, -0.2455, -0.7042]]],\n\n\n        [[[-0.2504, -0.3598, -0.1199,  0.2551, -0.5003],\n          [ 0.1365, -0.3004, -0.3045,  0.1119, -0.1684],\n          [ 0.1980, -0.0510, -0.2116,  0.0321, -0.1766],\n          [-0.1648, -0.6461, -0.5829, -0.1265,  0.0871],\n          [ 0.1124, -0.4109, -0.9819, -0.1864,  0.4388]]],\n\n\n        [[[-0.5147,  0.1186,  0.5365, -0.5049, -0.9201],\n          [-0.0189, -0.0284, -0.9864, -0.2854, -0.1827],\n          [-1.3057, -0.6926, -0.6505,  0.2068,  0.3300],\n          [-1.3735,  0.2037,  0.2468,  0.3166,  0.0710],\n          [-0.5940, -0.6309, -0.4049,  0.7009,  0.1724]]],\n\n\n        [[[ 0.3788,  0.0794, -0.4265, -0.1576,  0.0312],\n          [-0.1865, -0.9333, -0.6402,  0.2178,  0.3531],\n          [-0.3694, -0.1459,  0.6929,  0.6214,  0.2413],\n          [ 0.2096,  0.3032,  0.4789, -0.2633, -0.4940],\n          [ 0.1812, -0.2943, -0.5340, -1.2313,  0.1955]]],\n\n\n        [[[ 0.1814, -0.2550, -0.3302, -0.2672, -0.0566],\n          [-0.5218, -0.0665, -0.1889, -0.1543,  0.1820],\n          [-0.4794, -0.0881, -0.5455,  0.1927, -0.2243],\n          [-0.1688, -0.1002, -0.1748,  0.1656, -0.0872],\n          [-0.4696, -0.3445, -0.0150,  0.0150,  0.0429]]],\n\n\n        [[[-0.0110,  0.0712,  0.1751,  0.1512, -0.7895],\n          [-0.1340,  0.0589,  0.2575, -0.0446, -1.0411],\n          [-0.2241, -0.0130,  0.5968,  0.0430, -0.3906],\n          [-0.9658, -0.3102,  0.5802,  0.0912, -0.0806],\n          [-0.6764, -0.1164, -0.1150,  0.1443, -0.1137]]]], requires_grad=True)\n"
                }
            ],
            "source": "cnn = CNN()\ncnn.load_state_dict(torch.load('cnn.pt'))\nprint(cnn)\n\nfor name, param in cnn.named_parameters():\n    if name == 'conv1.weight':\n        print(f\"amount of kernels of Conv1: {param.shape}\")\n        kernels1 = param\n    if name == 'conv2.weight':\n        print(f\"amount of kernels of Conv2: {param.shape}\")\nprint(f\"kernels of first layer:\\n{kernels1}\")"
        },
        {
            "cell_type": "markdown",
            "id": "c2494a4b",
            "metadata": {},
            "source": "### Load Dataset and get results"
        },
        {
            "cell_type": "code",
            "execution_count": 3,
            "id": "95f84d60",
            "metadata": {
                "trusted": true
            },
            "outputs": [],
            "source": "test_data = datasets.MNIST(root='data', train=False, transform=ToTensor(),)\ntest_loader = torch.utils.data.DataLoader(test_data, batch_size=20, shuffle=True, num_workers=1)\nsamples, labels = next(iter(test_loader))\n\ncnn.eval()\nwith torch.no_grad():\n    results = cnn(samples)"
        },
        {
            "cell_type": "markdown",
            "id": "4c59d62e",
            "metadata": {},
            "source": "### Prepare Data for PySR and extract features\nExtract the 5x5 submatrices (incl. padding) from images to use them as input"
        },
        {
            "cell_type": "code",
            "execution_count": 4,
            "id": "4794a798",
            "metadata": {
                "trusted": true
            },
            "outputs": [
                {
                    "name": "stdout",
                    "output_type": "stream",
                    "text": "(15680, 5, 5)\n(16, 15680)\n"
                }
            ],
            "source": "# Take every image and split it into 5x5 submatrices => np.array.shape = (7840, 5, 5)\n# 7840 <- 28 * 28 patches per image * 10 images (batch_size)\nkernel_size = 5\nX = None\nfor x in samples:\n    x = torch.nn.functional.pad(input=x[0], pad=(2, 2, 2, 2), mode=\"constant\", value=0)\n    for i, j in np.ndindex((x.size()[0] - kernel_size + 1, x.size()[1] - kernel_size + 1)):\n        slice = x[i:i + kernel_size, j:j + kernel_size]\n        if X is None:\n            # X = np.array([slice.numpy().flatten()])\n            X = np.array([slice.numpy()])\n        else:\n            # X = np.concatenate((X, [slice.numpy().flatten()]))\n            X = np.concatenate((X, [slice.numpy()]))\n\nprint(X.shape)\n\n# Get the result for every 5x5 submatrix for each kernel => np.array.shape = (16, 7840)\n# 16 <- amount of kernels in the first layer\ny = results['relu1'].numpy().transpose(1, 0, 2, 3).reshape(16, X.shape[0])\nprint(y.shape)"
        },
        {
            "cell_type": "markdown",
            "id": "e2105758",
            "metadata": {},
            "source": "#### Discrete Cosine Transform (DCT, Fourier Transform)\nGet DCT features of image, only keep low frequencies."
        },
        {
            "cell_type": "code",
            "execution_count": 5,
            "id": "456afc2d",
            "metadata": {
                "trusted": true
            },
            "outputs": [
                {
                    "name": "stdout",
                    "output_type": "stream",
                    "text": "(15680, 3, 3)\n"
                }
            ],
            "source": "def dct2(m):\n    return dct(dct(m.T, norm='ortho').T, norm='ortho')\n\nXdct = np.array(list(map(dct2, X)))\ndct_filter_param = 3\nXdct_filtered = np.array(list(map(lambda m: m[:dct_filter_param, :dct_filter_param], Xdct)))\nprint(Xdct_filtered.shape)"
        },
        {
            "cell_type": "markdown",
            "id": "31813e7e",
            "metadata": {},
            "source": "### Symbolic Regression"
        },
        {
            "cell_type": "code",
            "execution_count": 6,
            "id": "f2a67fac",
            "metadata": {
                "trusted": true
            },
            "outputs": [],
            "source": "def newPySRRegressor():\n    return PySRRegressor(\n        niterations=40,\n        binary_operators=[\"+\", \"*\", \"-\", \"/\"],\n        unary_operators=[\n            \"cos\",\n            \"exp\",\n            \"sin\",\n            \"square\",\n            \"cube\",\n            \"inv(x) = 1/x\",  # Julia syntax\n        ],\n        extra_sympy_mappings={\"inv\": lambda x: 1 / x},  # Sympy syntax\n        elementwise_loss=\"loss(prediction, target) = (prediction - target)^2\",  # Julia syntax\n        warm_start=False,\n        verbosity=0,\n        temp_equation_file=True,\n    )"
        },
        {
            "cell_type": "markdown",
            "id": "900212c0",
            "metadata": {},
            "source": "#### Over the first kernel"
        },
        {
            "cell_type": "code",
            "execution_count": 7,
            "id": "7e3f5233",
            "metadata": {
                "trusted": true
            },
            "outputs": [
                {
                    "name": "stderr",
                    "output_type": "stream",
                    "text": "/home/croniev/Code/cysec/lib/python3.9/site-packages/pysr/sr.py:2582: UserWarning: Note: it looks like you are running in Jupyter. The progress bar will be turned off.\n  warnings.warn(\n/home/croniev/Code/cysec/lib/python3.9/site-packages/pysr/sr.py:2029: UserWarning: Note: you are running with more than 10,000 datapoints. You should consider turning on batching (https://astroautomata.com/PySR/options/#batching). You should also reconsider if you need that many datapoints. Unless you have a large amount of noise (in which case you should smooth your dataset first), generally < 10,000 datapoints is enough to find a functional form with symbolic regression. More datapoints will lower the search speed.\n  warnings.warn(\n"
                },
                {
                    "data": {
                        "text/html": "<style>#sk-container-id-1 {\n  /* Definition of color scheme common for light and dark mode */\n  --sklearn-color-text: black;\n  --sklearn-color-line: gray;\n  /* Definition of color scheme for unfitted estimators */\n  --sklearn-color-unfitted-level-0: #fff5e6;\n  --sklearn-color-unfitted-level-1: #f6e4d2;\n  --sklearn-color-unfitted-level-2: #ffe0b3;\n  --sklearn-color-unfitted-level-3: chocolate;\n  /* Definition of color scheme for fitted estimators */\n  --sklearn-color-fitted-level-0: #f0f8ff;\n  --sklearn-color-fitted-level-1: #d4ebff;\n  --sklearn-color-fitted-level-2: #b3dbfd;\n  --sklearn-color-fitted-level-3: cornflowerblue;\n\n  /* Specific color for light theme */\n  --sklearn-color-text-on-default-background: var(--sg-text-color, var(--theme-code-foreground, var(--jp-content-font-color1, black)));\n  --sklearn-color-background: var(--sg-background-color, var(--theme-background, var(--jp-layout-color0, white)));\n  --sklearn-color-border-box: var(--sg-text-color, var(--theme-code-foreground, var(--jp-content-font-color1, black)));\n  --sklearn-color-icon: #696969;\n\n  @media (prefers-color-scheme: dark) {\n    /* Redefinition of color scheme for dark theme */\n    --sklearn-color-text-on-default-background: var(--sg-text-color, var(--theme-code-foreground, var(--jp-content-font-color1, white)));\n    --sklearn-color-background: var(--sg-background-color, var(--theme-background, var(--jp-layout-color0, #111)));\n    --sklearn-color-border-box: var(--sg-text-color, var(--theme-code-foreground, var(--jp-content-font-color1, white)));\n    --sklearn-color-icon: #878787;\n  }\n}\n\n#sk-container-id-1 {\n  color: var(--sklearn-color-text);\n}\n\n#sk-container-id-1 pre {\n  padding: 0;\n}\n\n#sk-container-id-1 input.sk-hidden--visually {\n  border: 0;\n  clip: rect(1px 1px 1px 1px);\n  clip: rect(1px, 1px, 1px, 1px);\n  height: 1px;\n  margin: -1px;\n  overflow: hidden;\n  padding: 0;\n  position: absolute;\n  width: 1px;\n}\n\n#sk-container-id-1 div.sk-dashed-wrapped {\n  border: 1px dashed var(--sklearn-color-line);\n  margin: 0 0.4em 0.5em 0.4em;\n  box-sizing: border-box;\n  padding-bottom: 0.4em;\n  background-color: var(--sklearn-color-background);\n}\n\n#sk-container-id-1 div.sk-container {\n  /* jupyter's `normalize.less` sets `[hidden] { display: none; }`\n     but bootstrap.min.css set `[hidden] { display: none !important; }`\n     so we also need the `!important` here to be able to override the\n     default hidden behavior on the sphinx rendered scikit-learn.org.\n     See: https://github.com/scikit-learn/scikit-learn/issues/21755 */\n  display: inline-block !important;\n  position: relative;\n}\n\n#sk-container-id-1 div.sk-text-repr-fallback {\n  display: none;\n}\n\ndiv.sk-parallel-item,\ndiv.sk-serial,\ndiv.sk-item {\n  /* draw centered vertical line to link estimators */\n  background-image: linear-gradient(var(--sklearn-color-text-on-default-background), var(--sklearn-color-text-on-default-background));\n  background-size: 2px 100%;\n  background-repeat: no-repeat;\n  background-position: center center;\n}\n\n/* Parallel-specific style estimator block */\n\n#sk-container-id-1 div.sk-parallel-item::after {\n  content: \"\";\n  width: 100%;\n  border-bottom: 2px solid var(--sklearn-color-text-on-default-background);\n  flex-grow: 1;\n}\n\n#sk-container-id-1 div.sk-parallel {\n  display: flex;\n  align-items: stretch;\n  justify-content: center;\n  background-color: var(--sklearn-color-background);\n  position: relative;\n}\n\n#sk-container-id-1 div.sk-parallel-item {\n  display: flex;\n  flex-direction: column;\n}\n\n#sk-container-id-1 div.sk-parallel-item:first-child::after {\n  align-self: flex-end;\n  width: 50%;\n}\n\n#sk-container-id-1 div.sk-parallel-item:last-child::after {\n  align-self: flex-start;\n  width: 50%;\n}\n\n#sk-container-id-1 div.sk-parallel-item:only-child::after {\n  width: 0;\n}\n\n/* Serial-specific style estimator block */\n\n#sk-container-id-1 div.sk-serial {\n  display: flex;\n  flex-direction: column;\n  align-items: center;\n  background-color: var(--sklearn-color-background);\n  padding-right: 1em;\n  padding-left: 1em;\n}\n\n\n/* Toggleable style: style used for estimator/Pipeline/ColumnTransformer box that is\nclickable and can be expanded/collapsed.\n- Pipeline and ColumnTransformer use this feature and define the default style\n- Estimators will overwrite some part of the style using the `sk-estimator` class\n*/\n\n/* Pipeline and ColumnTransformer style (default) */\n\n#sk-container-id-1 div.sk-toggleable {\n  /* Default theme specific background. It is overwritten whether we have a\n  specific estimator or a Pipeline/ColumnTransformer */\n  background-color: var(--sklearn-color-background);\n}\n\n/* Toggleable label */\n#sk-container-id-1 label.sk-toggleable__label {\n  cursor: pointer;\n  display: block;\n  width: 100%;\n  margin-bottom: 0;\n  padding: 0.5em;\n  box-sizing: border-box;\n  text-align: center;\n}\n\n#sk-container-id-1 label.sk-toggleable__label-arrow:before {\n  /* Arrow on the left of the label */\n  content: \"\u25b8\";\n  float: left;\n  margin-right: 0.25em;\n  color: var(--sklearn-color-icon);\n}\n\n#sk-container-id-1 label.sk-toggleable__label-arrow:hover:before {\n  color: var(--sklearn-color-text);\n}\n\n/* Toggleable content - dropdown */\n\n#sk-container-id-1 div.sk-toggleable__content {\n  max-height: 0;\n  max-width: 0;\n  overflow: hidden;\n  text-align: left;\n  /* unfitted */\n  background-color: var(--sklearn-color-unfitted-level-0);\n}\n\n#sk-container-id-1 div.sk-toggleable__content.fitted {\n  /* fitted */\n  background-color: var(--sklearn-color-fitted-level-0);\n}\n\n#sk-container-id-1 div.sk-toggleable__content pre {\n  margin: 0.2em;\n  border-radius: 0.25em;\n  color: var(--sklearn-color-text);\n  /* unfitted */\n  background-color: var(--sklearn-color-unfitted-level-0);\n}\n\n#sk-container-id-1 div.sk-toggleable__content.fitted pre {\n  /* unfitted */\n  background-color: var(--sklearn-color-fitted-level-0);\n}\n\n#sk-container-id-1 input.sk-toggleable__control:checked~div.sk-toggleable__content {\n  /* Expand drop-down */\n  max-height: 200px;\n  max-width: 100%;\n  overflow: auto;\n}\n\n#sk-container-id-1 input.sk-toggleable__control:checked~label.sk-toggleable__label-arrow:before {\n  content: \"\u25be\";\n}\n\n/* Pipeline/ColumnTransformer-specific style */\n\n#sk-container-id-1 div.sk-label input.sk-toggleable__control:checked~label.sk-toggleable__label {\n  color: var(--sklearn-color-text);\n  background-color: var(--sklearn-color-unfitted-level-2);\n}\n\n#sk-container-id-1 div.sk-label.fitted input.sk-toggleable__control:checked~label.sk-toggleable__label {\n  background-color: var(--sklearn-color-fitted-level-2);\n}\n\n/* Estimator-specific style */\n\n/* Colorize estimator box */\n#sk-container-id-1 div.sk-estimator input.sk-toggleable__control:checked~label.sk-toggleable__label {\n  /* unfitted */\n  background-color: var(--sklearn-color-unfitted-level-2);\n}\n\n#sk-container-id-1 div.sk-estimator.fitted input.sk-toggleable__control:checked~label.sk-toggleable__label {\n  /* fitted */\n  background-color: var(--sklearn-color-fitted-level-2);\n}\n\n#sk-container-id-1 div.sk-label label.sk-toggleable__label,\n#sk-container-id-1 div.sk-label label {\n  /* The background is the default theme color */\n  color: var(--sklearn-color-text-on-default-background);\n}\n\n/* On hover, darken the color of the background */\n#sk-container-id-1 div.sk-label:hover label.sk-toggleable__label {\n  color: var(--sklearn-color-text);\n  background-color: var(--sklearn-color-unfitted-level-2);\n}\n\n/* Label box, darken color on hover, fitted */\n#sk-container-id-1 div.sk-label.fitted:hover label.sk-toggleable__label.fitted {\n  color: var(--sklearn-color-text);\n  background-color: var(--sklearn-color-fitted-level-2);\n}\n\n/* Estimator label */\n\n#sk-container-id-1 div.sk-label label {\n  font-family: monospace;\n  font-weight: bold;\n  display: inline-block;\n  line-height: 1.2em;\n}\n\n#sk-container-id-1 div.sk-label-container {\n  text-align: center;\n}\n\n/* Estimator-specific */\n#sk-container-id-1 div.sk-estimator {\n  font-family: monospace;\n  border: 1px dotted var(--sklearn-color-border-box);\n  border-radius: 0.25em;\n  box-sizing: border-box;\n  margin-bottom: 0.5em;\n  /* unfitted */\n  background-color: var(--sklearn-color-unfitted-level-0);\n}\n\n#sk-container-id-1 div.sk-estimator.fitted {\n  /* fitted */\n  background-color: var(--sklearn-color-fitted-level-0);\n}\n\n/* on hover */\n#sk-container-id-1 div.sk-estimator:hover {\n  /* unfitted */\n  background-color: var(--sklearn-color-unfitted-level-2);\n}\n\n#sk-container-id-1 div.sk-estimator.fitted:hover {\n  /* fitted */\n  background-color: var(--sklearn-color-fitted-level-2);\n}\n\n/* Specification for estimator info (e.g. \"i\" and \"?\") */\n\n/* Common style for \"i\" and \"?\" */\n\n.sk-estimator-doc-link,\na:link.sk-estimator-doc-link,\na:visited.sk-estimator-doc-link {\n  float: right;\n  font-size: smaller;\n  line-height: 1em;\n  font-family: monospace;\n  background-color: var(--sklearn-color-background);\n  border-radius: 1em;\n  height: 1em;\n  width: 1em;\n  text-decoration: none !important;\n  margin-left: 1ex;\n  /* unfitted */\n  border: var(--sklearn-color-unfitted-level-1) 1pt solid;\n  color: var(--sklearn-color-unfitted-level-1);\n}\n\n.sk-estimator-doc-link.fitted,\na:link.sk-estimator-doc-link.fitted,\na:visited.sk-estimator-doc-link.fitted {\n  /* fitted */\n  border: var(--sklearn-color-fitted-level-1) 1pt solid;\n  color: var(--sklearn-color-fitted-level-1);\n}\n\n/* On hover */\ndiv.sk-estimator:hover .sk-estimator-doc-link:hover,\n.sk-estimator-doc-link:hover,\ndiv.sk-label-container:hover .sk-estimator-doc-link:hover,\n.sk-estimator-doc-link:hover {\n  /* unfitted */\n  background-color: var(--sklearn-color-unfitted-level-3);\n  color: var(--sklearn-color-background);\n  text-decoration: none;\n}\n\ndiv.sk-estimator.fitted:hover .sk-estimator-doc-link.fitted:hover,\n.sk-estimator-doc-link.fitted:hover,\ndiv.sk-label-container:hover .sk-estimator-doc-link.fitted:hover,\n.sk-estimator-doc-link.fitted:hover {\n  /* fitted */\n  background-color: var(--sklearn-color-fitted-level-3);\n  color: var(--sklearn-color-background);\n  text-decoration: none;\n}\n\n/* Span, style for the box shown on hovering the info icon */\n.sk-estimator-doc-link span {\n  display: none;\n  z-index: 9999;\n  position: relative;\n  font-weight: normal;\n  right: .2ex;\n  padding: .5ex;\n  margin: .5ex;\n  width: min-content;\n  min-width: 20ex;\n  max-width: 50ex;\n  color: var(--sklearn-color-text);\n  box-shadow: 2pt 2pt 4pt #999;\n  /* unfitted */\n  background: var(--sklearn-color-unfitted-level-0);\n  border: .5pt solid var(--sklearn-color-unfitted-level-3);\n}\n\n.sk-estimator-doc-link.fitted span {\n  /* fitted */\n  background: var(--sklearn-color-fitted-level-0);\n  border: var(--sklearn-color-fitted-level-3);\n}\n\n.sk-estimator-doc-link:hover span {\n  display: block;\n}\n\n/* \"?\"-specific style due to the `<a>` HTML tag */\n\n#sk-container-id-1 a.estimator_doc_link {\n  float: right;\n  font-size: 1rem;\n  line-height: 1em;\n  font-family: monospace;\n  background-color: var(--sklearn-color-background);\n  border-radius: 1rem;\n  height: 1rem;\n  width: 1rem;\n  text-decoration: none;\n  /* unfitted */\n  color: var(--sklearn-color-unfitted-level-1);\n  border: var(--sklearn-color-unfitted-level-1) 1pt solid;\n}\n\n#sk-container-id-1 a.estimator_doc_link.fitted {\n  /* fitted */\n  border: var(--sklearn-color-fitted-level-1) 1pt solid;\n  color: var(--sklearn-color-fitted-level-1);\n}\n\n/* On hover */\n#sk-container-id-1 a.estimator_doc_link:hover {\n  /* unfitted */\n  background-color: var(--sklearn-color-unfitted-level-3);\n  color: var(--sklearn-color-background);\n  text-decoration: none;\n}\n\n#sk-container-id-1 a.estimator_doc_link.fitted:hover {\n  /* fitted */\n  background-color: var(--sklearn-color-fitted-level-3);\n}\n</style><div id=\"sk-container-id-1\" class=\"sk-top-container\"><div class=\"sk-text-repr-fallback\"><pre>PySRRegressor.equations_ = [\n\t   pick     score                                           equation  \\\n\t0        0.000000                                 sin(0.00043246243)   \n\t1        0.010580                                  -0.004426408 * x6   \n\t2        0.016973                            cube(x6) * -0.004426408   \n\t3        0.002326                      square(cube(0.30356145 * x6))   \n\t4        0.004006                       -0.004841388 * cube(x6 + x8)   \n\t5        0.000390                  -0.004841388 * cube(x6 + sin(x8))   \n\t6  &gt;&gt;&gt;&gt;  0.026873     square(square(cube(x6)) * (x3 * -0.007614721))   \n\t7        0.013111  square(square(cube(x6)) * ((x3 * -0.007614721)...   \n\t\n\t       loss  complexity  \n\t0  0.000171           2  \n\t1  0.000169           3  \n\t2  0.000166           4  \n\t3  0.000166           5  \n\t4  0.000165           6  \n\t5  0.000165           7  \n\t6  0.000161           8  \n\t7  0.000156          10  \n]</pre><b>In a Jupyter environment, please rerun this cell to show the HTML representation or trust the notebook. <br />On GitHub, the HTML representation is unable to render, please try loading this page with nbviewer.org.</b></div><div class=\"sk-container\" hidden><div class=\"sk-item\"><div class=\"sk-estimator fitted sk-toggleable\"><input class=\"sk-toggleable__control sk-hidden--visually\" id=\"sk-estimator-id-1\" type=\"checkbox\" checked><label for=\"sk-estimator-id-1\" class=\"sk-toggleable__label fitted sk-toggleable__label-arrow fitted\">&nbsp;PySRRegressor<span class=\"sk-estimator-doc-link fitted\">i<span>Fitted</span></span></label><div class=\"sk-toggleable__content fitted\"><pre>PySRRegressor.equations_ = [\n\t   pick     score                                           equation  \\\n\t0        0.000000                                 sin(0.00043246243)   \n\t1        0.010580                                  -0.004426408 * x6   \n\t2        0.016973                            cube(x6) * -0.004426408   \n\t3        0.002326                      square(cube(0.30356145 * x6))   \n\t4        0.004006                       -0.004841388 * cube(x6 + x8)   \n\t5        0.000390                  -0.004841388 * cube(x6 + sin(x8))   \n\t6  &gt;&gt;&gt;&gt;  0.026873     square(square(cube(x6)) * (x3 * -0.007614721))   \n\t7        0.013111  square(square(cube(x6)) * ((x3 * -0.007614721)...   \n\t\n\t       loss  complexity  \n\t0  0.000171           2  \n\t1  0.000169           3  \n\t2  0.000166           4  \n\t3  0.000166           5  \n\t4  0.000165           6  \n\t5  0.000165           7  \n\t6  0.000161           8  \n\t7  0.000156          10  \n]</pre></div> </div></div></div></div>",
                        "text/plain": "PySRRegressor.equations_ = [\n\t   pick     score                                           equation  \\\n\t0        0.000000                                 sin(0.00043246243)   \n\t1        0.010580                                  -0.004426408 * x6   \n\t2        0.016973                            cube(x6) * -0.004426408   \n\t3        0.002326                      square(cube(0.30356145 * x6))   \n\t4        0.004006                       -0.004841388 * cube(x6 + x8)   \n\t5        0.000390                  -0.004841388 * cube(x6 + sin(x8))   \n\t6  >>>>  0.026873     square(square(cube(x6)) * (x3 * -0.007614721))   \n\t7        0.013111  square(square(cube(x6)) * ((x3 * -0.007614721)...   \n\t\n\t       loss  complexity  \n\t0  0.000171           2  \n\t1  0.000169           3  \n\t2  0.000166           4  \n\t3  0.000166           5  \n\t4  0.000165           6  \n\t5  0.000165           7  \n\t6  0.000161           8  \n\t7  0.000156          10  \n]"
                    },
                    "execution_count": 7,
                    "metadata": {},
                    "output_type": "execute_result"
                }
            ],
            "source": "regr_first_kernel = newPySRRegressor()\nregr_first_kernel.fit(Xdct_filtered.reshape(X.shape[0], dct_filter_param**2), y[0])  # Input data coded for position and summed"
        },
        {
            "cell_type": "code",
            "execution_count": null,
            "id": "e6668e41",
            "metadata": {
                "trusted": true
            },
            "outputs": [],
            "source": "print(regr_first_kernel.equations_['lambda_format'])\nf = regr_first_kernel.equations_['lambda_format'][4]\nprint(f(np.array(range(9))))"
        },
        {
            "cell_type": "markdown",
            "id": "93924a9e",
            "metadata": {},
            "source": "#### Over all 16 Kernels"
        },
        {
            "cell_type": "code",
            "execution_count": null,
            "id": "210fec1f",
            "metadata": {
                "trusted": true
            },
            "outputs": [],
            "source": "regr_all_kernels = pd.DataFrame()\nregr_all_kernels.index.names = ['complexity']\nfor i in range(16):\n    regr = newPySRRegressor()\n    regr.fit(Xdct_filtered.reshape((X.shape[0], dct_filter_param**2)), y[i])  # Input data as is\n    # print(regr.equations_)\n    regr_all_kernels.insert(loc=i, column=f'Kernel {i}', value=regr.equations_['equation'])\n    print(f\"Done with Kernel {i} | {(i+1)/16 * 100}%\")\n\nprint(regr_all_kernels)"
        },
        {
            "cell_type": "code",
            "execution_count": null,
            "id": "29f8aef7",
            "metadata": {
                "trusted": true
            },
            "outputs": [],
            "source": "regr_all_kernels.to_csv('results_dct_filter3_allkernels.csv')"
        },
        {
            "cell_type": "markdown",
            "id": "166e32ea",
            "metadata": {},
            "source": "#### Over the first kernel multiple times (Stability check)"
        },
        {
            "cell_type": "code",
            "execution_count": null,
            "id": "a531bd0f",
            "metadata": {
                "trusted": true
            },
            "outputs": [],
            "source": "regr_stability = pd.DataFrame()\nregr_stability.index.names = ['complexity']\nfor i in range(10):\n    regr = newPySRRegressor()\n    regr.fit(Xdct_filtered.reshape((X.shape[0], dct_filter_param**2)), y[0])\n    # print(regr.equations_)\n    regr_stability.insert(loc=i, column=f'Iteration {i}', value=regr.equations_['equation'])\n    # print(regr_stability)\n    print(f\"Done with Iteration {i} | {(i+1)/10 * 100}%\")"
        },
        {
            "cell_type": "code",
            "execution_count": null,
            "id": "6de9e1e8",
            "metadata": {
                "trusted": true
            },
            "outputs": [],
            "source": "regr_stability.to_csv('results_dct_filter3_stability.csv')"
        }
    ],
    "metadata": {
        "kernelspec": {
            "display_name": "Python 3 (ipykernel)",
            "language": "python",
            "name": "python3"
        },
        "language_info": {
            "codemirror_mode": {
                "name": "ipython",
                "version": 3
            },
            "file_extension": ".py",
            "mimetype": "text/x-python",
            "name": "python",
            "nbconvert_exporter": "python",
            "pygments_lexer": "ipython3",
            "version": "3.9.7"
        },
        "toc": {
            "base_numbering": 1,
            "nav_menu": {},
            "number_sections": true,
            "sideBar": true,
            "skip_h1_title": false,
            "title_cell": "Table of Contents",
            "title_sidebar": "Contents",
            "toc_cell": false,
            "toc_position": {},
            "toc_section_display": true,
            "toc_window_display": false
        }
    },
    "nbformat": 4,
    "nbformat_minor": 5
}
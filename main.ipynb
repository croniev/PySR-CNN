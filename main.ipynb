{
    "cells": [
        {
            "cell_type": "code",
            "execution_count": 1,
            "id": "c6238c0b",
            "metadata": {
                "trusted": true
            },
            "outputs": [
                {
                    "name": "stderr",
                    "output_type": "stream",
                    "text": "/home/croniev/Code/cysec/lib/python3.9/site-packages/juliacall/__init__.py:61: UserWarning: torch was imported before juliacall. This may cause a segfault. To avoid this, import juliacall before importing torch. For updates, see https://github.com/pytorch/pytorch/issues/78829.\n  warnings.warn(\n"
                },
                {
                    "name": "stdout",
                    "output_type": "stream",
                    "text": "Detected IPython. Loading juliacall extension. See https://juliapy.github.io/PythonCall.jl/stable/compat/#IPython\n"
                }
            ],
            "source": "from itertools import product\nimport torch\nfrom torchvision.transforms import ToTensor\nfrom torchvision import datasets\nfrom pysr import PySRRegressor\nfrom model import CNN\nimport pandas as pd\nimport numpy as np\nfrom scipy.fftpack import dct, idct\nimport matplotlib.pyplot as plt"
        },
        {
            "cell_type": "markdown",
            "id": "701c080e",
            "metadata": {},
            "source": "### Load Model and get Kernels"
        },
        {
            "cell_type": "code",
            "execution_count": null,
            "id": "a0f6482d",
            "metadata": {
                "trusted": true
            },
            "outputs": [],
            "source": "cnn = CNN()\ncnn.load_state_dict(torch.load('cnn.pt'))\nprint(cnn)\n\nfor name, param in cnn.named_parameters():\n    if name == 'conv1.weight':\n        print(f\"amount of kernels of Conv1: {param.shape}\")\n        kernels1 = param\n    if name == 'conv2.weight':\n        print(f\"amount of kernels of Conv2: {param.shape}\")\nprint(f\"kernels of first layer:\\n{kernels1}\")"
        },
        {
            "cell_type": "markdown",
            "id": "abef4200",
            "metadata": {},
            "source": "### Load Dataset and get results"
        },
        {
            "cell_type": "code",
            "execution_count": null,
            "id": "44f41eb1",
            "metadata": {
                "trusted": true
            },
            "outputs": [],
            "source": "test_data = datasets.MNIST(root='data', train=False, transform=ToTensor(),)\ntest_loader = torch.utils.data.DataLoader(test_data, batch_size=20, shuffle=True, num_workers=1)\nsamples, labels = next(iter(test_loader))\n\ncnn.eval()\nwith torch.no_grad():\n    results = cnn(samples)"
        },
        {
            "cell_type": "markdown",
            "id": "baac8a30",
            "metadata": {},
            "source": "### Prepare Data for PySR and extract features\nExtract the 5x5 submatrices (incl. padding) from images to use them as input"
        },
        {
            "cell_type": "code",
            "execution_count": null,
            "id": "5948ac3b",
            "metadata": {
                "trusted": true
            },
            "outputs": [],
            "source": "# Take every image and split it into 5x5 submatrices => np.array.shape = (7840, 5, 5)\n# 7840 <- 28 * 28 patches per image * 10 images (batch_size)\nkernel_size = 5\nX = None\nfor x in samples:\n    x = torch.nn.functional.pad(input=x[0], pad=(2, 2, 2, 2), mode=\"constant\", value=0)\n    for i, j in np.ndindex((x.size()[0] - kernel_size + 1, x.size()[1] - kernel_size + 1)):\n        slice = x[i:i + kernel_size, j:j + kernel_size]\n        if X is None:\n            # X = np.array([slice.numpy().flatten()])\n            X = np.array([slice.numpy()])\n        else:\n            # X = np.concatenate((X, [slice.numpy().flatten()]))\n            X = np.concatenate((X, [slice.numpy()]))\n\nprint(X.shape)\n\n# Get the result for every 5x5 submatrix for each kernel => np.array.shape = (16, 7840)\n# 16 <- amount of kernels in the first layer\ny = results['relu1'].numpy().transpose(1, 0, 2, 3).reshape(16, X.shape[0])\nprint(y.shape)"
        },
        {
            "cell_type": "markdown",
            "id": "c5eeeb36",
            "metadata": {},
            "source": "#### Discrete Cosine Transform (DCT, Fourier Transform)\nGet DCT features of image, only keep low frequencies."
        },
        {
            "cell_type": "code",
            "execution_count": null,
            "id": "e84652ee",
            "metadata": {
                "trusted": true
            },
            "outputs": [],
            "source": "def dct2(m):\n    return dct(dct(m.T, norm='ortho').T, norm='ortho')\n\nXdct = np.array(list(map(dct2, X)))\ndct_filter_param = 3\nXdct_filtered = np.array(list(map(lambda m: m[:dct_filter_param, :dct_filter_param], Xdct)))\nprint(Xdct_filtered.shape)"
        },
        {
            "cell_type": "markdown",
            "id": "17e9faf6",
            "metadata": {},
            "source": "Figures of corresponding frequencies"
        },
        {
            "cell_type": "code",
            "execution_count": 3,
            "id": "3762ed2d",
            "metadata": {
                "trusted": true
            },
            "outputs": [
                {
                    "data": {
                        "image/png": "[encoded data removed]",
                        "text/plain": "<Figure size 640x480 with 25 Axes>"
                    },
                    "metadata": {},
                    "output_type": "display_data"
                }
            ],
            "source": "fig, axs = plt.subplots(5,5)\nfig.tight_layout(h_pad=0.5, w_pad=0)\nfor i, j in list(product(range(5), range(5))):\n    img = np.zeros((5, 5))\n    img[i, j] = 1\n    axs[i, j].imshow(idct(idct(img, norm='ortho').T, norm='ortho'), cmap='gray')\n    axs[i, j].set_yticklabels([])\n    axs[i, j].set_xticklabels([])\n    if i < 3 and j < 3:\n        axs[i, j].set_title(f\"f{i}{j} / x{3*i + j}\")\n    else:\n        axs[i, j].set_title(f\"f{i}{j}\")"
        },
        {
            "cell_type": "markdown",
            "id": "30dd2fd8",
            "metadata": {},
            "source": "### Symbolic Regression"
        },
        {
            "cell_type": "code",
            "execution_count": null,
            "id": "808718ff",
            "metadata": {
                "trusted": true
            },
            "outputs": [],
            "source": "def newPySRRegressor():\n    return PySRRegressor(\n        niterations=40,\n        binary_operators=[\"+\", \"*\", \"-\", \"/\"],\n        unary_operators=[\n            \"cos\",\n            \"exp\",\n            \"sin\",\n            \"square\",\n            \"cube\",\n            \"inv(x) = 1/x\",  # Julia syntax\n        ],\n        extra_sympy_mappings={\"inv\": lambda x: 1 / x},  # Sympy syntax\n        elementwise_loss=\"loss(prediction, target) = (prediction - target)^2\",  # Julia syntax\n        warm_start=False,\n        verbosity=0,\n        temp_equation_file=True,\n    )"
        },
        {
            "cell_type": "markdown",
            "id": "8626425d",
            "metadata": {},
            "source": "#### Over the first kernel"
        },
        {
            "cell_type": "code",
            "execution_count": null,
            "id": "a48b1153",
            "metadata": {
                "trusted": true
            },
            "outputs": [],
            "source": "regr_first_kernel = newPySRRegressor()\nregr_first_kernel.fit(Xdct_filtered.reshape(X.shape[0], dct_filter_param**2), y[0])  # Input data coded for position and summed"
        },
        {
            "cell_type": "code",
            "execution_count": null,
            "id": "861203d5",
            "metadata": {
                "trusted": true
            },
            "outputs": [],
            "source": "print(regr_first_kernel.equations_['lambda_format'])\nf = regr_first_kernel.equations_['lambda_format'][4]\nprint(f(np.array(range(9))))"
        },
        {
            "cell_type": "markdown",
            "id": "32486aae",
            "metadata": {},
            "source": "#### Over all 16 Kernels"
        },
        {
            "cell_type": "code",
            "execution_count": null,
            "id": "4a8b370b",
            "metadata": {
                "trusted": true
            },
            "outputs": [],
            "source": "regr_all_kernels = pd.DataFrame()\nregr_all_kernels.index.names = ['complexity']\nfor i in range(16):\n    regr = newPySRRegressor()\n    regr.fit(Xdct_filtered.reshape((X.shape[0], dct_filter_param**2)), y[i])  # Input data as is\n    # print(regr.equations_)\n    regr_all_kernels.insert(loc=i, column=f'Kernel {i}', value=regr.equations_['equation'])\n    print(f\"Done with Kernel {i} | {(i+1)/16 * 100}%\")\n\nprint(regr_all_kernels)"
        },
        {
            "cell_type": "code",
            "execution_count": null,
            "id": "68579ce5",
            "metadata": {
                "trusted": true
            },
            "outputs": [],
            "source": "regr_all_kernels.to_csv('results_dct_filter3_allkernels.csv')"
        },
        {
            "cell_type": "markdown",
            "id": "f82b0d8f",
            "metadata": {},
            "source": "#### Over the first kernel multiple times (Stability check)"
        },
        {
            "cell_type": "code",
            "execution_count": null,
            "id": "5c538031",
            "metadata": {
                "trusted": true
            },
            "outputs": [],
            "source": "regr_stability = pd.DataFrame()\nregr_stability.index.names = ['complexity']\nfor i in range(10):\n    regr = newPySRRegressor()\n    regr.fit(Xdct_filtered.reshape((X.shape[0], dct_filter_param**2)), y[0])\n    # print(regr.equations_)\n    regr_stability.insert(loc=i, column=f'Iteration {i}', value=regr.equations_['equation'])\n    # print(regr_stability)\n    print(f\"Done with Iteration {i} | {(i+1)/10 * 100}%\")"
        },
        {
            "cell_type": "code",
            "execution_count": null,
            "id": "afedeb06",
            "metadata": {
                "trusted": true
            },
            "outputs": [],
            "source": "regr_stability.to_csv('results_dct_filter3_stability.csv')"
        }
    ],
    "metadata": {
        "kernelspec": {
            "display_name": "Python 3 (ipykernel)",
            "language": "python",
            "name": "python3"
        },
        "language_info": {
            "codemirror_mode": {
                "name": "ipython",
                "version": 3
            },
            "file_extension": ".py",
            "mimetype": "text/x-python",
            "name": "python",
            "nbconvert_exporter": "python",
            "pygments_lexer": "ipython3",
            "version": "3.9.7"
        },
        "toc": {
            "base_numbering": 1,
            "nav_menu": {},
            "number_sections": true,
            "sideBar": true,
            "skip_h1_title": false,
            "title_cell": "Table of Contents",
            "title_sidebar": "Contents",
            "toc_cell": false,
            "toc_position": {},
            "toc_section_display": true,
            "toc_window_display": false
        }
    },
    "nbformat": 4,
    "nbformat_minor": 5
}